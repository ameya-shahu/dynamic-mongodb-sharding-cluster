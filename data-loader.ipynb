{
 "cells": [
  {
   "cell_type": "code",
   "execution_count": null,
   "metadata": {
    "id": "D-clKwEExLng"
   },
   "outputs": [],
   "source": [
    "!pip install pymongo"
   ]
  },
  {
   "cell_type": "code",
   "execution_count": null,
   "metadata": {
    "id": "1iYrP0r4w1T6"
   },
   "outputs": [],
   "source": [
    "from pymongo import MongoClient\n",
    "from datetime import datetime, timedelta\n",
    "import random"
   ]
  },
  {
   "cell_type": "code",
   "execution_count": null,
   "metadata": {
    "id": "MGEvMpqSxbsk"
   },
   "outputs": [],
   "source": [
    "def generate_patient_data(num_records, start_time, patient_id_start, patient_id_end):\n",
    "    data = []\n",
    "    for i in range(num_records):\n",
    "        record_time = start_time + timedelta(seconds=i)\n",
    "        record_date = record_time.replace(hour=0, minute=0, second=0, microsecond=0)  # Convert date to datetime\n",
    "        record = {\n",
    "            \"patient_id\": f\"patient_{random.randint(patient_id_start, patient_id_end)}\",\n",
    "            \"time\": record_time,  # Keep the timestamp\n",
    "            \"date\": record_date,  # Store the 'date' as a datetime object with zeroed time\n",
    "            \"heart_rate\": random.randint(60, 100),\n",
    "            \"blood_pressure\": {\n",
    "                \"systolic\": random.randint(110, 140),\n",
    "                \"diastolic\": random.randint(70, 90)\n",
    "            },\n",
    "            \"temperature\": round(random.uniform(36.0, 37.5), 1)\n",
    "        }\n",
    "        data.append(record)\n",
    "    return data"
   ]
  },
  {
   "cell_type": "code",
   "execution_count": null,
   "metadata": {
    "id": "H8SM07VkxGwE"
   },
   "outputs": [],
   "source": [
    "def insert_data_in_batches(collection, data, batch_size=5000):\n",
    "    for i in range(0, len(data), batch_size):\n",
    "        batch = data[i:i + batch_size]\n",
    "        collection.insert_many(batch)\n",
    "        print(f\"Inserted batch {i // batch_size + 1} with {len(batch)} records.\")"
   ]
  },
  {
   "cell_type": "code",
   "execution_count": null,
   "metadata": {
    "id": "9NwKbz_YyDpX"
   },
   "outputs": [],
   "source": [
    "num_days = 10\n",
    "patient_id_start=30\n",
    "patient_id_end=50\n",
    "\n",
    "db_name = \"healthcare\"\n",
    "collection_name = \"patient_data\"\n",
    "connection_string = \"mongodb://<Replace ROUTER IP HERE>:27017/\""
   ]
  },
  {
   "cell_type": "code",
   "execution_count": null,
   "metadata": {
    "id": "eZZPZRXfzLHp"
   },
   "outputs": [],
   "source": [
    "num_records = num_days * 80000\n",
    "start_time = datetime.now() - timedelta(days=num_days)\n",
    "patient_data = generate_patient_data(num_records, start_time, patient_id_start, patient_id_end)\n",
    "\n",
    "client = MongoClient(connection_string)\n",
    "admin_db = client.admin\n",
    "config_db = client.config.settings\n",
    "config_db.update_one({\"_id\": \"chunksize\"}, {\"$set\": {\"value\": 2}}, upsert=True)\n",
    "db = client[db_name]\n",
    "collection = db[collection_name]"
   ]
  },
  {
   "cell_type": "code",
   "execution_count": null,
   "metadata": {
    "colab": {
     "base_uri": "https://localhost:8080/"
    },
    "id": "5zqUaZXBzgai",
    "outputId": "21862580-2332-4f4d-b6d6-fec50f5d6970"
   },
   "outputs": [
    {
     "data": {
      "text/plain": [
       "{'collectionsharded': 'healthcare.patient_data',\n",
       " 'ok': 1.0,\n",
       " '$clusterTime': {'clusterTime': Timestamp(1733177666, 38),\n",
       "  'signature': {'hash': b'\\x00\\x00\\x00\\x00\\x00\\x00\\x00\\x00\\x00\\x00\\x00\\x00\\x00\\x00\\x00\\x00\\x00\\x00\\x00\\x00',\n",
       "   'keyId': 0}},\n",
       " 'operationTime': Timestamp(1733177666, 34)}"
      ]
     },
     "execution_count": 11,
     "metadata": {},
     "output_type": "execute_result"
    }
   ],
   "source": [
    "client.admin.command('enableSharding', db_name)\n",
    "client.admin.command('shardCollection', f'{db_name}.{collection_name}', key={\"patient_id\": \"hashed\"})"
   ]
  },
  {
   "cell_type": "code",
   "execution_count": null,
   "metadata": {
    "id": "8JTxzN550kIi"
   },
   "outputs": [],
   "source": [
    "insert_data_in_batches(collection, patient_data, batch_size=5000)"
   ]
  },
  {
   "cell_type": "code",
   "execution_count": null,
   "metadata": {
    "id": "m_K5v3243iUD"
   },
   "outputs": [],
   "source": []
  }
 ],
 "metadata": {
  "colab": {
   "provenance": []
  },
  "kernelspec": {
   "display_name": "Python 3",
   "name": "python3"
  },
  "language_info": {
   "name": "python"
  }
 },
 "nbformat": 4,
 "nbformat_minor": 0
}
